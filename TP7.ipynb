{
 "cells": [
  {
   "cell_type": "code",
   "execution_count": 1,
   "metadata": {},
   "outputs": [
    {
     "name": "stdout",
     "output_type": "stream",
     "text": [
      "A :  [[  3   1   5]\n",
      " [  9   8  -1]\n",
      " [110  12   2]]\n",
      "B :  [[ 8 -1  8]\n",
      " [ 2  1  3]\n",
      " [18  2 32]]\n",
      "A + B :  [[ 11   0  13]\n",
      " [ 11   9   2]\n",
      " [128  14  34]]\n"
     ]
    }
   ],
   "source": [
    "#exercice1\n",
    "import numpy as np\n",
    "\n",
    "A = np.array ([ [3,1,5], [9, 8, -1], [110, 12 ,2] ])\n",
    "B = np.array ([ [8, -1, 8], [2, 1, 3], [18, 2, 32] ])\n",
    "\n",
    "C= A+B\n",
    "print(\"A : \",A)\n",
    "print(\"B : \",B)\n",
    "print(\"A + B : \",C)"
   ]
  },
  {
   "cell_type": "code",
   "execution_count": 2,
   "metadata": {},
   "outputs": [
    {
     "name": "stdout",
     "output_type": "stream",
     "text": [
      "[17, 15, 4]\n",
      "[10, 12, 9]\n",
      "[11, 13, 18]\n"
     ]
    }
   ],
   "source": [
    "#exercice 1 sans numpy\n",
    "#without numpy\n",
    "X = [[12,7,3],\n",
    "    [4 ,5,6],\n",
    "    [7 ,8,9]]\n",
    "\n",
    "Y = [[5,8,1],\n",
    "    [6,7,3],\n",
    "    [4,5,9]]\n",
    "\n",
    "result = [[0,0,0],\n",
    "         [0,0,0],\n",
    "         [0,0,0]]\n",
    "\n",
    "for i in range(len(X)):\n",
    "   for j in range(len(X[0])):\n",
    "       result[i][j] = X[i][j] + Y[i][j]\n",
    "\n",
    "for r in result:\n",
    "   print(r)"
   ]
  },
  {
   "cell_type": "code",
   "execution_count": 4,
   "metadata": {},
   "outputs": [
    {
     "name": "stdout",
     "output_type": "stream",
     "text": [
      "A :  [[  3   1   5]\n",
      " [  9   8  -1]\n",
      " [110  12   2]]\n",
      "B :  [[ 8 -1  8]\n",
      " [ 2  1  3]\n",
      " [18  2 32]]\n",
      "A * B :  [[  24   -1   40]\n",
      " [  18    8   -3]\n",
      " [1980   24   64]]\n"
     ]
    }
   ],
   "source": [
    "#exercice 2\n",
    "import numpy as np\n",
    "\n",
    "A = np.array ([ [3,1,5], [9, 8, -1], [110, 12 ,2] ])\n",
    "B = np.array ([ [8, -1, 8], [2, 1, 3], [18, 2, 32] ])\n",
    "\n",
    "C= A*B\n",
    "print(\"A : \\n\",A)\n",
    "print(\"B : \\n\",B)\n",
    "print(\"A * B :\\n \",C)"
   ]
  },
  {
   "cell_type": "code",
   "execution_count": 7,
   "metadata": {},
   "outputs": [],
   "source": [
    "#exercice 3\n",
    "def eststochastique(P):\n",
    "    nl = len(P)  # nombre de lignes\n",
    "    nc = len(P[0])  # nombre de colonnes\n",
    " \n",
    "    etat = True  # on suppose que la matrice est stochastique\n",
    "    for i in range(nl):\n",
    "        s = 0\n",
    "        for j in range(nc):\n",
    "            s += P[i][j]\n",
    "        if s > 1:\n",
    "            etat = False\n",
    "            break\n",
    "    return etat\n",
    " \n",
    " \n",
    "def estbistochastique(P):\n",
    "    nl = len(P)  # nombre de lignes\n",
    "    nc = len(P[0])  # nombre de colonnes\n",
    " \n",
    "    etat = True  # on suppose que la matrice est bistochastique\n",
    "    if(eststochastique(P)):\n",
    "        for j in range(nc):\n",
    "            s = 0\n",
    "            for i in range(nl):\n",
    "                s += P[i][j]\n",
    "            if s > 1:\n",
    "                etat = False\n",
    "                break\n",
    "    return etat\n",
    "def vecteurstable(G, h):\n",
    "    nl = len(G)  # nombre de lignes\n",
    "    nc = len(G[0])  # nombre de colonnes\n",
    "    etat = True\n",
    "    if(eststochastique(G)):\n",
    "        for j in range(nc):\n",
    "            s = 0\n",
    "            for i in range(nl):\n",
    "                s += h[i]*G[i][j]\n",
    "            if s != h[j]:\n",
    "                etat = False\n",
    "                break\n",
    "    else:\n",
    "        etat = False\n",
    "    return etat"
   ]
  },
  {
   "cell_type": "code",
   "execution_count": 9,
   "metadata": {},
   "outputs": [
    {
     "name": "stdout",
     "output_type": "stream",
     "text": [
      "A :  [[ 3  1  5]\n",
      " [ 9  8 -1]\n",
      " [18 12  2]]\n",
      "Transposée de A : \n",
      " [[ 3  9 18]\n",
      " [ 1  8 12]\n",
      " [ 5 -1  2]]\n"
     ]
    }
   ],
   "source": [
    "#exercice 4\n",
    "import numpy as np\n",
    " \n",
    "A = np.array([ [3, 1, 5], [9, 8, -1], [18, 12, 2] ])\n",
    " \n",
    "C = A.transpose()\n",
    " \n",
    "print(\"A : \\n\", A)\n",
    "print(\"Transposée de A : \\n\", C)"
   ]
  },
  {
   "cell_type": "code",
   "execution_count": null,
   "metadata": {},
   "outputs": [],
   "source": []
  }
 ],
 "metadata": {
  "kernelspec": {
   "display_name": "Python 3",
   "language": "python",
   "name": "python3"
  },
  "language_info": {
   "codemirror_mode": {
    "name": "ipython",
    "version": 3
   },
   "file_extension": ".py",
   "mimetype": "text/x-python",
   "name": "python",
   "nbconvert_exporter": "python",
   "pygments_lexer": "ipython3",
   "version": "3.8.3"
  }
 },
 "nbformat": 4,
 "nbformat_minor": 4
}
